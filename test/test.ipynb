{
 "cells": [
  {
   "cell_type": "code",
   "execution_count": null,
   "metadata": {},
   "outputs": [],
   "source": [
    "import requests\n",
    "import json"
   ]
  },
  {
   "cell_type": "code",
   "execution_count": null,
   "metadata": {},
   "outputs": [],
   "source": [
    "def return_apis(api_list):\n",
    "\n",
    "  r = []\n",
    "\n",
    "  for x in api_list:\n",
    "    response = requests.get(x)\n",
    "    banana = response.json()\n",
    "    r.append(banana)\n",
    "  \n",
    "  for i in range(0,4):\n",
    "      with open(f'file{i}.json', \"w\") as outfile:\n",
    "          json.dump(r[i],outfile)\n",
    "\n",
    "  return r\n",
    "\n",
    "# r1 = requests.get('https://draft.premierleague.com/api/bootstrap-dynamic')\n",
    "# r2 = requests.get(\"https://draft.premierleague.com/api/game\")\n",
    "# r3 = requests.get('https://draft.premierleague.com/api/bootstrap-static')\n",
    "# r4 = requests.get(\"https://draft.premierleague.com/api/pl/event-status\")\n",
    "\n"
   ]
  },
  {
   "cell_type": "code",
   "execution_count": 50,
   "metadata": {},
   "outputs": [],
   "source": [
    "apis = [\n",
    "        \"https://draft.premierleague.com/api/bootstrap-dynamic\",\n",
    "        \"https://draft.premierleague.com/api/game\",\n",
    "        \"https://draft.premierleague.com/api/bootstrap-static\",\n",
    "        \"https://draft.premierleague.com/api/pl/event-status\",\n",
    "    ]\n",
    "\n",
    "\n",
    "more_apis = [\n",
    "        \"https://draft.premierleague.com/api/bootstrap-dynamic\",\n",
    "        \"https://draft.premierleague.com/api/game\",\n",
    "        \"https://draft.premierleague.com/api/bootstrap-static\",\n",
    "        \"https://draft.premierleague.com/api/pl/event-status\",\n",
    "    ]\n",
    "\n",
    "list_of_content = return_apis(apis)\n",
    "\n",
    "list_of_content = return_apis(more_apis)\n"
   ]
  }
 ],
 "metadata": {
  "kernelspec": {
   "display_name": "base",
   "language": "python",
   "name": "python3"
  },
  "language_info": {
   "codemirror_mode": {
    "name": "ipython",
    "version": 3
   },
   "file_extension": ".py",
   "mimetype": "text/x-python",
   "name": "python",
   "nbconvert_exporter": "python",
   "pygments_lexer": "ipython3",
   "version": "3.9.17"
  }
 },
 "nbformat": 4,
 "nbformat_minor": 2
}
