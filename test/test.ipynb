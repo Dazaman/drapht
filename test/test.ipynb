{
 "cells": [
  {
   "cell_type": "code",
   "execution_count": null,
   "metadata": {},
   "outputs": [],
   "source": [
    "import requests\n",
    "import json\n",
    "from typing import list"
   ]
  },
  {
   "cell_type": "code",
   "execution_count": 61,
   "metadata": {},
   "outputs": [],
   "source": [
    "def return_apis(api_list:list):\n",
    "  '''\n",
    "  inputs:\n",
    "   apis_list: list - it is a list of endpoints\n",
    "  '''\n",
    "  r = []\n",
    "\n",
    "  for x in api_list:\n",
    "    response = requests.get(x)\n",
    "    banana = response.json()\n",
    "    r.append(banana)\n",
    "  \n",
    "    filename = x.split(\"/\")[-1]\n",
    "    print(\"filename\", filename)\n",
    "\n",
    "    with open(f'{filename}.json', \"w\") as outfile:\n",
    "        json.dump(banana,outfile)\n",
    "\n",
    "  return r\n",
    "\n",
    "# r1 = requests.get('https://draft.premierleague.com/api/bootstrap-dynamic')\n",
    "# r2 = requests.get(\"https://draft.premierleague.com/api/game\")\n",
    "# r3 = requests.get('https://draft.premierleague.com/api/bootstrap-static')\n",
    "# r4 = requests.get(\"https://draft.premierleague.com/api/pl/event-status\")\n",
    "\n"
   ]
  },
  {
   "cell_type": "code",
   "execution_count": 62,
   "metadata": {},
   "outputs": [
    {
     "name": "stdout",
     "output_type": "stream",
     "text": [
      "filename bootstrap-dynamic\n",
      "filename game\n",
      "filename bootstrap-static\n",
      "filename event-status\n"
     ]
    }
   ],
   "source": [
    "apis = [\n",
    "        \"https://draft.premierleague.com/api/bootstrap-dynamic\",\n",
    "        \"https://draft.premierleague.com/api/game\",\n",
    "        \"https://draft.premierleague.com/api/bootstrap-static\",\n",
    "        \"https://draft.premierleague.com/api/pl/event-status\",\n",
    "    ]\n",
    "\n",
    "\n",
    "more_apis = [\n",
    "        \"https://draft.premierleague.com/api/bootstrap-dynamic\",\n",
    "        \"https://draft.premierleague.com/api/game\",\n",
    "        \"https://draft.premierleague.com/api/bootstrap-static\",\n",
    "        \"https://draft.premierleague.com/api/pl/event-status\",\n",
    "    ]\n",
    "\n",
    "list_of_content = return_apis(apis)\n",
    "\n",
    "# list_of_content = return_apis(more_apis)\n"
   ]
  },
  {
   "cell_type": "code",
   "execution_count": null,
   "metadata": {},
   "outputs": [],
   "source": []
  }
 ],
 "metadata": {
  "kernelspec": {
   "display_name": "base",
   "language": "python",
   "name": "python3"
  },
  "language_info": {
   "codemirror_mode": {
    "name": "ipython",
    "version": 3
   },
   "file_extension": ".py",
   "mimetype": "text/x-python",
   "name": "python",
   "nbconvert_exporter": "python",
   "pygments_lexer": "ipython3",
   "version": "3.9.17"
  }
 },
 "nbformat": 4,
 "nbformat_minor": 2
}
