{
 "cells": [
  {
   "cell_type": "code",
   "execution_count": 1,
   "metadata": {},
   "outputs": [],
   "source": [
    "import getpass\n",
    "import requests\n",
    "import json\n",
    "import pandas as pd\n",
    "import re"
   ]
  },
  {
   "cell_type": "code",
   "execution_count": 2,
   "metadata": {},
   "outputs": [],
   "source": [
    "GW = 12\n",
    "email_address = \"dazam92@gmail.com\"\n",
    "league_code = \"56578\"\n",
    "password = \"Yusuf1993!\""
   ]
  },
  {
   "cell_type": "code",
   "execution_count": 3,
   "metadata": {},
   "outputs": [],
   "source": [
    "json_files = [\n",
    "        f\"data/{GW}_live\"\n",
    "    ]\n",
    "apis = [\n",
    "        f\"https://draft.premierleague.com/api/event/{GW}/live\"\n",
    "    ]"
   ]
  },
  {
   "cell_type": "code",
   "execution_count": 4,
   "metadata": {},
   "outputs": [
    {
     "name": "stdout",
     "output_type": "stream",
     "text": [
      "data/12_live https://draft.premierleague.com/api/event/12/live\n"
     ]
    },
    {
     "ename": "FileNotFoundError",
     "evalue": "[Errno 2] No such file or directory: 'data/12_live'",
     "output_type": "error",
     "traceback": [
      "\u001b[0;31m---------------------------------------------------------------------------\u001b[0m",
      "\u001b[0;31mFileNotFoundError\u001b[0m                         Traceback (most recent call last)",
      "Cell \u001b[0;32mIn[4], line 20\u001b[0m\n\u001b[1;32m     17\u001b[0m r \u001b[38;5;241m=\u001b[39m session\u001b[38;5;241m.\u001b[39mget(i)\n\u001b[1;32m     19\u001b[0m jsonResponse \u001b[38;5;241m=\u001b[39m r\u001b[38;5;241m.\u001b[39mjson()\n\u001b[0;32m---> 20\u001b[0m \u001b[38;5;28;01mwith\u001b[39;00m \u001b[38;5;28;43mopen\u001b[39;49m\u001b[43m(\u001b[49m\u001b[43mfile\u001b[49m\u001b[43m,\u001b[49m\u001b[43m \u001b[49m\u001b[38;5;124;43m\"\u001b[39;49m\u001b[38;5;124;43mw\u001b[39;49m\u001b[38;5;124;43m\"\u001b[39;49m\u001b[43m)\u001b[49m \u001b[38;5;28;01mas\u001b[39;00m outfile:\n\u001b[1;32m     21\u001b[0m     json\u001b[38;5;241m.\u001b[39mdump(jsonResponse, outfile)\n",
      "File \u001b[0;32m~/Library/Caches/pypoetry/virtualenvs/drapht-_ZBBgGnk-py3.10/lib/python3.10/site-packages/IPython/core/interactiveshell.py:310\u001b[0m, in \u001b[0;36m_modified_open\u001b[0;34m(file, *args, **kwargs)\u001b[0m\n\u001b[1;32m    303\u001b[0m \u001b[38;5;28;01mif\u001b[39;00m file \u001b[38;5;129;01min\u001b[39;00m {\u001b[38;5;241m0\u001b[39m, \u001b[38;5;241m1\u001b[39m, \u001b[38;5;241m2\u001b[39m}:\n\u001b[1;32m    304\u001b[0m     \u001b[38;5;28;01mraise\u001b[39;00m \u001b[38;5;167;01mValueError\u001b[39;00m(\n\u001b[1;32m    305\u001b[0m         \u001b[38;5;124mf\u001b[39m\u001b[38;5;124m\"\u001b[39m\u001b[38;5;124mIPython won\u001b[39m\u001b[38;5;124m'\u001b[39m\u001b[38;5;124mt let you open fd=\u001b[39m\u001b[38;5;132;01m{\u001b[39;00mfile\u001b[38;5;132;01m}\u001b[39;00m\u001b[38;5;124m by default \u001b[39m\u001b[38;5;124m\"\u001b[39m\n\u001b[1;32m    306\u001b[0m         \u001b[38;5;124m\"\u001b[39m\u001b[38;5;124mas it is likely to crash IPython. If you know what you are doing, \u001b[39m\u001b[38;5;124m\"\u001b[39m\n\u001b[1;32m    307\u001b[0m         \u001b[38;5;124m\"\u001b[39m\u001b[38;5;124myou can use builtins\u001b[39m\u001b[38;5;124m'\u001b[39m\u001b[38;5;124m open.\u001b[39m\u001b[38;5;124m\"\u001b[39m\n\u001b[1;32m    308\u001b[0m     )\n\u001b[0;32m--> 310\u001b[0m \u001b[38;5;28;01mreturn\u001b[39;00m \u001b[43mio_open\u001b[49m\u001b[43m(\u001b[49m\u001b[43mfile\u001b[49m\u001b[43m,\u001b[49m\u001b[43m \u001b[49m\u001b[38;5;241;43m*\u001b[39;49m\u001b[43margs\u001b[49m\u001b[43m,\u001b[49m\u001b[43m \u001b[49m\u001b[38;5;241;43m*\u001b[39;49m\u001b[38;5;241;43m*\u001b[39;49m\u001b[43mkwargs\u001b[49m\u001b[43m)\u001b[49m\n",
      "\u001b[0;31mFileNotFoundError\u001b[0m: [Errno 2] No such file or directory: 'data/12_live'"
     ]
    }
   ],
   "source": [
    "# Post credentials for authentication\n",
    "# pwd = getpass.getpass(\"Enter Password: \")\n",
    "password = \"ZonalMarking1!\"\n",
    "session = requests.session()\n",
    "url = \"https://users.premierleague.com/accounts/login/\"\n",
    "payload = {\n",
    "    \"password\": password,\n",
    "    \"login\": email_address,\n",
    "    # \"redirect_uri\": \"https://draft.premierleague.com/a/login\",\n",
    "    \"app\": \"plfpl-web\",\n",
    "}\n",
    "session.post(url, data=payload)\n",
    "\n",
    "# Loop over the api(s), call them and capture the response(s)\n",
    "for file, i in zip(json_files, apis):\n",
    "    print(file, i)\n",
    "    r = session.get(i)\n",
    "\n",
    "    jsonResponse = r.json()\n",
    "    with open(file, \"w\") as outfile:\n",
    "        json.dump(jsonResponse, outfile)\n"
   ]
  },
  {
   "cell_type": "code",
   "execution_count": 1,
   "metadata": {},
   "outputs": [
    {
     "ename": "NameError",
     "evalue": "name 'league_code' is not defined",
     "output_type": "error",
     "traceback": [
      "\u001b[0;31m---------------------------------------------------------------------------\u001b[0m",
      "\u001b[0;31mNameError\u001b[0m                                 Traceback (most recent call last)",
      "\u001b[0;32m<ipython-input-1-b756435f949a>\u001b[0m in \u001b[0;36m<module>\u001b[0;34m\u001b[0m\n\u001b[1;32m     18\u001b[0m \u001b[0;34m\u001b[0m\u001b[0m\n\u001b[1;32m     19\u001b[0m apis = [\n\u001b[0;32m---> 20\u001b[0;31m     \u001b[0;34mf\"https://draft.premierleague.com/api/draft/league/{league_code}/transactions\"\u001b[0m\u001b[0;34m,\u001b[0m\u001b[0;34m\u001b[0m\u001b[0;34m\u001b[0m\u001b[0m\n\u001b[0m\u001b[1;32m     21\u001b[0m     \u001b[0;34m\"https://draft.premierleague.com/api/bootstrap-dynamic\"\u001b[0m\u001b[0;34m,\u001b[0m\u001b[0;34m\u001b[0m\u001b[0;34m\u001b[0m\u001b[0m\n\u001b[1;32m     22\u001b[0m     \u001b[0;34m\"https://draft.premierleague.com/api/game\"\u001b[0m\u001b[0;34m,\u001b[0m\u001b[0;34m\u001b[0m\u001b[0;34m\u001b[0m\u001b[0m\n",
      "\u001b[0;31mNameError\u001b[0m: name 'league_code' is not defined"
     ]
    }
   ],
   "source": [
    "json_files = [\n",
    "        \"data/draft/transactions.json\",\n",
    "        \"data/bootstrap-dynamic.json\",\n",
    "        \"data/game.json\",\n",
    "        \"data/bootstrap-static.json\",\n",
    "        \"data/details.json\",\n",
    "        \"data/element-status.json\",\n",
    "        \"data/draft/trades.json\",\n",
    "        \"data/draft/transactions.json\",\n",
    "        \"data/pl/event-status.json\",\n",
    "        \"data/live.json\",\n",
    "        \"data/public.json\",\n",
    "        \"data/my-team.json\",\n",
    "        \"data/draft/choices.json\",\n",
    "        \"data/watchlist.json\",\n",
    "        \"data/event/.json\",\n",
    "    ]\n",
    "\n",
    "apis = [\n",
    "    f\"https://draft.premierleague.com/api/draft/league/{league_code}/transactions\",\n",
    "    \"https://draft.premierleague.com/api/bootstrap-dynamic\",\n",
    "    \"https://draft.premierleague.com/api/game\",\n",
    "    \"https://draft.premierleague.com/api/bootstrap-static\",\n",
    "    f\"https://draft.premierleague.com/api/league/{league_code}/details\",\n",
    "    f\"https://draft.premierleague.com/api/league/{league_code}/element-status\",\n",
    "    f\"https://draft.premierleague.com/api/draft/league/{league_code}/trades\",\n",
    "    f\"https://draft.premierleague.com/api/draft/entry/{team_id}/transactions\",\n",
    "    \"https://draft.premierleague.com/api/pl/event-status\",\n",
    "    f\"https://draft.premierleague.com/api/event/{GW}/live\",\n",
    "    f\"https://draft.premierleague.com/api/entry/{team_id}/public\",\n",
    "    f\"https://draft.premierleague.com/api/entry/{team_id}/my-team\",\n",
    "    f\"https://draft.premierleague.com/api/draft/{league_code}/choices\",\n",
    "    f\"https://draft.premierleague.com/api/watchlist/{team_id}\",\n",
    "    f\"https://draft.premierleague.com/api/entry/{team_id}/event/{GW}\",\n",
    "]"
   ]
  },
  {
   "cell_type": "code",
   "execution_count": 2,
   "metadata": {},
   "outputs": [
    {
     "name": "stdout",
     "output_type": "stream",
     "text": [
      "1\n",
      "2\n",
      "3\n",
      "4\n"
     ]
    }
   ],
   "source": [
    "\n",
    "for bracket in range(1,5):\n",
    "    print(bracket)"
   ]
  },
  {
   "cell_type": "code",
   "execution_count": 4,
   "metadata": {},
   "outputs": [],
   "source": [
    "brackets = {\n",
    "    \"1\": (1, 10),\n",
    "    \"2\": (11, 20),\n",
    "    \"3\": (21, 29),\n",
    "    \"4\": (30, 38),\n",
    "}"
   ]
  },
  {
   "cell_type": "code",
   "execution_count": 8,
   "metadata": {},
   "outputs": [
    {
     "data": {
      "text/plain": [
       "1"
      ]
     },
     "execution_count": 8,
     "metadata": {},
     "output_type": "execute_result"
    }
   ],
   "source": [
    "brackets[\"1\"][0]"
   ]
  },
  {
   "cell_type": "code",
   "execution_count": null,
   "metadata": {},
   "outputs": [],
   "source": []
  }
 ],
 "metadata": {
  "kernelspec": {
   "display_name": "Python 3",
   "language": "python",
   "name": "python3"
  },
  "language_info": {
   "codemirror_mode": {
    "name": "ipython",
    "version": 3
   },
   "file_extension": ".py",
   "mimetype": "text/x-python",
   "name": "python",
   "nbconvert_exporter": "python",
   "pygments_lexer": "ipython3",
   "version": "3.10.11"
  }
 },
 "nbformat": 4,
 "nbformat_minor": 2
}
